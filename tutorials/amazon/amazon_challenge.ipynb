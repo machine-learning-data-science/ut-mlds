{
 "cells": [
  {
   "cell_type": "markdown",
   "metadata": {},
   "source": [
    "# Kaggle Amazon Employee Access Challenge\n",
    "### https://www.kaggle.com/c/amazon-employee-access-challenge\n",
    "\n",
    "#### Code Author: Wenyang Fu\n",
    "#### First started on: 3/19/2016\n",
    "#### Python version: 3.5\n"
   ]
  },
  {
   "cell_type": "markdown",
   "metadata": {},
   "source": [
    "# What's the point of this competition?\n",
    "### Amazon wants to predict whether employees should be granted access to some resources (e.g. cloud storage in Amazon S3 buckets, cloud compute with EC2, web hosting on AWS) based on their role at work, along with other variables.\n"
   ]
  },
  {
   "cell_type": "code",
   "execution_count": 7,
   "metadata": {
    "collapsed": false
   },
   "outputs": [],
   "source": [
    "import numpy as np\n",
    "import pandas as pd\n",
    "import sklearn.cross_validation\n",
    "import seaborn as sns\n",
    "import matplotlib as mpl\n",
    "import matplotlib.pyplot as plt\n",
    "from IPython.display import display, HTML\n",
    "\n",
    "%matplotlib inline"
   ]
  },
  {
   "cell_type": "code",
   "execution_count": null,
   "metadata": {
    "collapsed": false
   },
   "outputs": [
    {
     "data": {
      "text/html": [
       "<div>\n",
       "<table border=\"1\" class=\"dataframe\">\n",
       "  <thead>\n",
       "    <tr style=\"text-align: right;\">\n",
       "      <th></th>\n",
       "      <th>ACTION</th>\n",
       "      <th>RESOURCE</th>\n",
       "      <th>MGR_ID</th>\n",
       "      <th>ROLE_ROLLUP_1</th>\n",
       "      <th>ROLE_ROLLUP_2</th>\n",
       "      <th>ROLE_DEPTNAME</th>\n",
       "      <th>ROLE_TITLE</th>\n",
       "      <th>ROLE_FAMILY_DESC</th>\n",
       "      <th>ROLE_FAMILY</th>\n",
       "      <th>ROLE_CODE</th>\n",
       "    </tr>\n",
       "  </thead>\n",
       "  <tbody>\n",
       "    <tr>\n",
       "      <th>0</th>\n",
       "      <td>1</td>\n",
       "      <td>39353</td>\n",
       "      <td>85475</td>\n",
       "      <td>117961</td>\n",
       "      <td>118300</td>\n",
       "      <td>123472</td>\n",
       "      <td>117905</td>\n",
       "      <td>117906</td>\n",
       "      <td>290919</td>\n",
       "      <td>117908</td>\n",
       "    </tr>\n",
       "    <tr>\n",
       "      <th>1</th>\n",
       "      <td>1</td>\n",
       "      <td>17183</td>\n",
       "      <td>1540</td>\n",
       "      <td>117961</td>\n",
       "      <td>118343</td>\n",
       "      <td>123125</td>\n",
       "      <td>118536</td>\n",
       "      <td>118536</td>\n",
       "      <td>308574</td>\n",
       "      <td>118539</td>\n",
       "    </tr>\n",
       "    <tr>\n",
       "      <th>2</th>\n",
       "      <td>1</td>\n",
       "      <td>36724</td>\n",
       "      <td>14457</td>\n",
       "      <td>118219</td>\n",
       "      <td>118220</td>\n",
       "      <td>117884</td>\n",
       "      <td>117879</td>\n",
       "      <td>267952</td>\n",
       "      <td>19721</td>\n",
       "      <td>117880</td>\n",
       "    </tr>\n",
       "    <tr>\n",
       "      <th>3</th>\n",
       "      <td>1</td>\n",
       "      <td>36135</td>\n",
       "      <td>5396</td>\n",
       "      <td>117961</td>\n",
       "      <td>118343</td>\n",
       "      <td>119993</td>\n",
       "      <td>118321</td>\n",
       "      <td>240983</td>\n",
       "      <td>290919</td>\n",
       "      <td>118322</td>\n",
       "    </tr>\n",
       "    <tr>\n",
       "      <th>4</th>\n",
       "      <td>1</td>\n",
       "      <td>42680</td>\n",
       "      <td>5905</td>\n",
       "      <td>117929</td>\n",
       "      <td>117930</td>\n",
       "      <td>119569</td>\n",
       "      <td>119323</td>\n",
       "      <td>123932</td>\n",
       "      <td>19793</td>\n",
       "      <td>119325</td>\n",
       "    </tr>\n",
       "  </tbody>\n",
       "</table>\n",
       "</div>"
      ],
      "text/plain": [
       "   ACTION  RESOURCE  MGR_ID  ROLE_ROLLUP_1  ROLE_ROLLUP_2  ROLE_DEPTNAME  \\\n",
       "0       1     39353   85475         117961         118300         123472   \n",
       "1       1     17183    1540         117961         118343         123125   \n",
       "2       1     36724   14457         118219         118220         117884   \n",
       "3       1     36135    5396         117961         118343         119993   \n",
       "4       1     42680    5905         117929         117930         119569   \n",
       "\n",
       "   ROLE_TITLE  ROLE_FAMILY_DESC  ROLE_FAMILY  ROLE_CODE  \n",
       "0      117905            117906       290919     117908  \n",
       "1      118536            118536       308574     118539  \n",
       "2      117879            267952        19721     117880  \n",
       "3      118321            240983       290919     118322  \n",
       "4      119323            123932        19793     119325  "
      ]
     },
     "metadata": {},
     "output_type": "display_data"
    },
    {
     "name": "stdout",
     "output_type": "stream",
     "text": [
      "Number of instances:32769\n"
     ]
    }
   ],
   "source": [
    "train = pd.read_csv('train.csv')\n",
    "test = pd.read_csv('test.csv', index_col='id')\n",
    "\n",
    "display(train.head(5))\n",
    "\n",
    "# Break the training data into a target (\"dependent\") and inputs (\"inpedendents\")\n",
    "y_train = train.ACTION\n",
    "X_train = train.drop([\"ACTION\"], axis=1)\n",
    "print(\"Number of instances:{}\".format(len(train.index)))\n"
   ]
  },
  {
   "cell_type": "markdown",
   "metadata": {},
   "source": [
    "### Let's visualize our data to get a better idea of our problem."
   ]
  },
  {
   "cell_type": "code",
   "execution_count": null,
   "metadata": {
    "collapsed": false
   },
   "outputs": [],
   "source": [
    "def show_feature_dist(df):\n",
    "    \"\"\" Plot the distribution for each feature. \"\"\"\n",
    "    fig = plt.figure(figsize=(20, 15))\n",
    "    cols = 5\n",
    "    rows = np.ceil(float(df.shape[1]) / cols)\n",
    "    for i, column in enumerate(df.columns):\n",
    "        ax = fig.add_subplot(rows, cols, i + 1)\n",
    "        ax.set_title(column)\n",
    "        if df.dtypes[column] == np.object:\n",
    "            df[column].value_counts().plot(\n",
    "                kind=\"bar\", axes=ax)\n",
    "        else:\n",
    "            df[column].hist(axes=ax)\n",
    "            plt.xticks(rotation=\"vertical\")\n",
    "    plt.subplots_adjust(hspace=0.7, wspace=0.2)\n",
    "    plt.show()\n",
    "\n",
    "show_feature_dist(train)"
   ]
  },
  {
   "cell_type": "markdown",
   "metadata": {},
   "source": [
    "### Well, it looks like we have a very lopsided classification problem here. Out of 32769 instances, a little more than 30000 employees are allowed access, while less than 2500 are denied access. Let's take a closer look:"
   ]
  },
  {
   "cell_type": "code",
   "execution_count": null,
   "metadata": {
    "collapsed": false
   },
   "outputs": [],
   "source": [
    "num_approvals = len(y_train[y_train == 1])\n",
    "num_rejects = len(y_train[y_train == 0])\n",
    "total = num_approvals + num_rejects\n",
    "\n",
    "print(\"Number of approved resources: {}\".format(num_approvals))\n",
    "print(\"Number of rejected resources: {}\".format(num_rejects))\n",
    "print(\"Fraction of rejects: {}\".format(num_rejects / total))\n",
    "\n",
    "amounts = [num_approvals, num_rejects]\n",
    "colors = ['lightcoral', 'lightskyblue']\n",
    "labels = ['approved', 'rejected']\n",
    "plt.pie(amounts, labels=labels, colors=colors,\n",
    "         autopct='%1.1f%%', shadow=True, startangle=140)\n",
    "plt.axis('equal')\n",
    "plt.title('Ratio of resources approved vs rejected')\n",
    "plt.show()"
   ]
  },
  {
   "cell_type": "markdown",
   "metadata": {},
   "source": [
    "### What are the different types of features/variables?\n",
    "- **Categorical**: Has 2 or more discrete categories. Divided into Categorical, Ordinal, and Binary.\n",
    "    - **Ordinal**: Has 2 or more categories that have an inherent ordering.\n",
    "        - How good your professor is: [bad, average, good]\n",
    "        - How much you like ice cream: [ew, its okay, delicious!]\n",
    "        - Your education level: [high school diploma, associate degree, bachelor's, master's, PhD]\n",
    "    - **Binary**: Only two different categories. No inherent order.\n",
    "        - Male, Female\n",
    "        - Raining, Not Raining\n",
    "    - **Nominal**: 2 or more categories that have no inherent ordering.\n",
    "        - States in the USA: [Texas, California, New York, Washington...]\n",
    "        - Countries in the world: [USA, China, India, Canada...]\n",
    "- **Continuous**: Values are continuous and have an inherent ordering.\n",
    "    - Age: 0~125 years\n",
    "    - Height: 0~84 inches\n",
    "    - Yearly Income\n",
    "        \n",
    "- ### Further reading:\n",
    "    - http://www.ats.ucla.edu/stat/mult_pkg/whatstat/nominal_ordinal_interval.htm\n",
    "    - https://statistics.laerd.com/statistical-guides/types-of-variable.php"
   ]
  },
  {
   "cell_type": "markdown",
   "metadata": {},
   "source": [
    "\n",
    "### Let's  try to better understand what each feature represents:\n",
    "1. **Resource**: Resource ID. Nominal or ordinal.\n",
    "2. **MGR_ID**: Manager ID. Nominal or ordinal.\n",
    "3. **ROLE_ROLLUP_1**: Not sure.\n",
    "4. **ROLE_ROLLUP_2**: Not sure.\n",
    "\n",
    "\n",
    "#### Read these links for some interesting food for thought:\n",
    "- https://www.kaggle.com/c/amazon-employee-access-challenge/forums/t/4840/gbm-code-auc-0-876\n",
    "- https://www.kaggle.com/c/amazon-employee-access-challenge/forums/t/4735/beating-the-benchmark\n",
    "- https://www.kaggle.com/c/amazon-employee-access-challenge/forums/t/4838/python-code-to-achieve-0-90-auc-with-logistic-regression\n",
    "- https://www.kaggle.com/c/amazon-employee-access-challenge/forums/t/5283/winning-solution-code-and-methodology"
   ]
  },
  {
   "cell_type": "markdown",
   "metadata": {},
   "source": [
    "## Let's just go ahead and use a naive linear classifier, see how we do."
   ]
  },
  {
   "cell_type": "code",
   "execution_count": null,
   "metadata": {
    "collapsed": false
   },
   "outputs": [],
   "source": [
    "from sklearn.linear_model import LinearRegression\n",
    "from sklearn.cross_validation import train_test_split\n",
    "from sklearn.metrics import accuracy_score\n",
    "from sklearn.metrics import roc_auc_score\n",
    "\n",
    "X_t, X_val, y_t, y_val = train_test_split(\n",
    "        X_train, y_train, test_size=0.33, random_state=42)\n",
    "\n",
    "linear_clf = LinearRegression()\n",
    "linear_clf.fit(X_t, y_t)\n",
    "predictions = linear_clf.predict(X_val)\n",
    "print(predictions)\n",
    "print(y_val)\n",
    "# accuracy_score(predictions, y_val)"
   ]
  },
  {
   "cell_type": "markdown",
   "metadata": {
    "collapsed": true
   },
   "source": [
    "### We can't run a naive classification algorithm yet. On the forums for this competition, Kagglers have come to the conclusion that most of features are nominal, not ordinal!"
   ]
  },
  {
   "cell_type": "code",
   "execution_count": null,
   "metadata": {
    "collapsed": false
   },
   "outputs": [],
   "source": [
    "from sklearn import "
   ]
  },
  {
   "cell_type": "code",
   "execution_count": null,
   "metadata": {
    "collapsed": true
   },
   "outputs": [],
   "source": []
  },
  {
   "cell_type": "code",
   "execution_count": null,
   "metadata": {
    "collapsed": true
   },
   "outputs": [],
   "source": []
  },
  {
   "cell_type": "code",
   "execution_count": null,
   "metadata": {
    "collapsed": true
   },
   "outputs": [],
   "source": []
  },
  {
   "cell_type": "code",
   "execution_count": null,
   "metadata": {
    "collapsed": true
   },
   "outputs": [],
   "source": []
  },
  {
   "cell_type": "code",
   "execution_count": null,
   "metadata": {
    "collapsed": true
   },
   "outputs": [],
   "source": []
  },
  {
   "cell_type": "code",
   "execution_count": null,
   "metadata": {
    "collapsed": true
   },
   "outputs": [],
   "source": []
  },
  {
   "cell_type": "code",
   "execution_count": null,
   "metadata": {
    "collapsed": true
   },
   "outputs": [],
   "source": []
  },
  {
   "cell_type": "code",
   "execution_count": null,
   "metadata": {
    "collapsed": true
   },
   "outputs": [],
   "source": []
  },
  {
   "cell_type": "code",
   "execution_count": null,
   "metadata": {
    "collapsed": true
   },
   "outputs": [],
   "source": []
  },
  {
   "cell_type": "code",
   "execution_count": null,
   "metadata": {
    "collapsed": true
   },
   "outputs": [],
   "source": []
  }
 ],
 "metadata": {
  "kernelspec": {
   "display_name": "Python 3",
   "language": "python",
   "name": "python3"
  },
  "language_info": {
   "codemirror_mode": {
    "name": "ipython",
    "version": 3
   },
   "file_extension": ".py",
   "mimetype": "text/x-python",
   "name": "python",
   "nbconvert_exporter": "python",
   "pygments_lexer": "ipython3",
   "version": "3.5.1"
  }
 },
 "nbformat": 4,
 "nbformat_minor": 0
}
